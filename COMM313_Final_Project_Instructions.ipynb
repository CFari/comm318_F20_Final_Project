{
 "cells": [
  {
   "cell_type": "markdown",
   "metadata": {},
   "source": [
    "# COMM318 Final Project\n",
    "\n",
    "### Your final project should have three components:\n",
    "\n",
    "#### 1. Your data\n",
    "\n",
    "* Organize the various data files you have used in your analysis in the `data` folder.\n",
    "\n",
    "\n",
    "* You can use sub-folders if this helps with the organization. \n",
    "    * For example, you might have:\n",
    "        * an `orig` or `raw` folder for original data your downloaded from `data.gov`\n",
    "        * a `clean` or `processed` folder that contains the cleaned up, selected and/or merged datasheets you created during your data analysis.\n",
    "\n",
    "\n",
    "#### 2. Analysis notebooks\n",
    "\n",
    "* A series of Jupyter notebooks that contain all the data manipulation, exploration, description and analyses you have carried out on the various datasets you have chosen to use. \n",
    "\n",
    "\n",
    "* These notebooks should be well organized and documented using Markdown cells around your code cells. \n",
    "    * __DON'T EXPECT THE CODE TO SPEAK FOR ITSELF__ - It is important to provide comments and documentation around the code you use to do your analysis. Notebooks and Markdown cells make this kind of programming easier to do and much better for sharing with others.\n",
    "\n",
    "\n",
    "* Use a Markdown document called `README.md` to describe and link to all the notebooks in this analysis folder. \n",
    "\n",
    "\n",
    "\n",
    "#### 3. Your data story \n",
    "\n",
    "* This is the creative output that tells the main story that you have selected out of all of your analysis.\n",
    "\n",
    "\n",
    "* It is up to you to decide how you want to present your data story - so __BE CREATIVE!__. \n",
    "\n",
    "\n",
    "* But possible options could be:\n",
    "    * A data journalism article (like those we've seen from NYTimes, Guardian, LATimes, etc.)\n",
    "    * A blog post (like those on medium.com)\n",
    "    * A slide show presentation (jupyter notebooks can be used to make reveal.js web presentations)\n",
    "    * A screencast style video (e.g. the hand drawing on a whiteboard style presentation)\n",
    "    * Other kinds of video, e.g. vlog, story video etc.\n",
    "    * A poster\n",
    "    \n",
    "    "
   ]
  },
  {
   "cell_type": "markdown",
   "metadata": {},
   "source": [
    "---"
   ]
  },
  {
   "cell_type": "code",
   "execution_count": null,
   "metadata": {},
   "outputs": [],
   "source": []
  }
 ],
 "metadata": {
  "kernelspec": {
   "display_name": "Python 3",
   "language": "python",
   "name": "python3"
  },
  "language_info": {
   "codemirror_mode": {
    "name": "ipython",
    "version": 3
   },
   "file_extension": ".py",
   "mimetype": "text/x-python",
   "name": "python",
   "nbconvert_exporter": "python",
   "pygments_lexer": "ipython3",
   "version": "3.7.3"
  }
 },
 "nbformat": 4,
 "nbformat_minor": 2
}
